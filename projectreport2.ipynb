{
 "cells": [
  {
   "cell_type": "code",
   "execution_count": 1,
   "id": "217462f5-b56e-4cb2-89b0-5057b7bb8cd1",
   "metadata": {},
   "outputs": [
    {
     "data": {
      "text/html": [
       "<div>\n",
       "<style scoped>\n",
       "    .dataframe tbody tr th:only-of-type {\n",
       "        vertical-align: middle;\n",
       "    }\n",
       "\n",
       "    .dataframe tbody tr th {\n",
       "        vertical-align: top;\n",
       "    }\n",
       "\n",
       "    .dataframe thead th {\n",
       "        text-align: right;\n",
       "    }\n",
       "</style>\n",
       "<table border=\"1\" class=\"dataframe\">\n",
       "  <thead>\n",
       "    <tr style=\"text-align: right;\">\n",
       "      <th></th>\n",
       "      <th>student_id</th>\n",
       "      <th>name</th>\n",
       "      <th>gender</th>\n",
       "      <th>age</th>\n",
       "      <th>grade_level</th>\n",
       "      <th>math_score</th>\n",
       "      <th>reading_score</th>\n",
       "      <th>writing_score</th>\n",
       "      <th>attendance_rate</th>\n",
       "      <th>parent_education</th>\n",
       "      <th>study_hours</th>\n",
       "      <th>internet_access</th>\n",
       "      <th>lunch_type</th>\n",
       "      <th>extra_activities</th>\n",
       "      <th>final_result</th>\n",
       "    </tr>\n",
       "  </thead>\n",
       "  <tbody>\n",
       "    <tr>\n",
       "      <th>0</th>\n",
       "      <td>S1</td>\n",
       "      <td>Student_1</td>\n",
       "      <td>Other</td>\n",
       "      <td>17</td>\n",
       "      <td>10</td>\n",
       "      <td>74</td>\n",
       "      <td>61</td>\n",
       "      <td>90</td>\n",
       "      <td>94.660002</td>\n",
       "      <td>Master's</td>\n",
       "      <td>4.120192</td>\n",
       "      <td>Yes</td>\n",
       "      <td>Free or reduced</td>\n",
       "      <td>Yes</td>\n",
       "      <td>Fail</td>\n",
       "    </tr>\n",
       "    <tr>\n",
       "      <th>1</th>\n",
       "      <td>S2</td>\n",
       "      <td>Student_2</td>\n",
       "      <td>Male</td>\n",
       "      <td>17</td>\n",
       "      <td>12</td>\n",
       "      <td>99</td>\n",
       "      <td>70</td>\n",
       "      <td>91</td>\n",
       "      <td>93.173227</td>\n",
       "      <td>Bachelor's</td>\n",
       "      <td>2.886505</td>\n",
       "      <td>No</td>\n",
       "      <td>Free or reduced</td>\n",
       "      <td>No</td>\n",
       "      <td>Pass</td>\n",
       "    </tr>\n",
       "    <tr>\n",
       "      <th>2</th>\n",
       "      <td>S3</td>\n",
       "      <td>Student_3</td>\n",
       "      <td>Other</td>\n",
       "      <td>17</td>\n",
       "      <td>9</td>\n",
       "      <td>59</td>\n",
       "      <td>60</td>\n",
       "      <td>99</td>\n",
       "      <td>98.631098</td>\n",
       "      <td>PhD</td>\n",
       "      <td>1.909926</td>\n",
       "      <td>No</td>\n",
       "      <td>Free or reduced</td>\n",
       "      <td>No</td>\n",
       "      <td>Fail</td>\n",
       "    </tr>\n",
       "    <tr>\n",
       "      <th>3</th>\n",
       "      <td>S4</td>\n",
       "      <td>Student_4</td>\n",
       "      <td>Other</td>\n",
       "      <td>17</td>\n",
       "      <td>12</td>\n",
       "      <td>70</td>\n",
       "      <td>88</td>\n",
       "      <td>69</td>\n",
       "      <td>96.419620</td>\n",
       "      <td>PhD</td>\n",
       "      <td>1.664740</td>\n",
       "      <td>No</td>\n",
       "      <td>Standard</td>\n",
       "      <td>No</td>\n",
       "      <td>Pass</td>\n",
       "    </tr>\n",
       "    <tr>\n",
       "      <th>4</th>\n",
       "      <td>S5</td>\n",
       "      <td>Student_5</td>\n",
       "      <td>Male</td>\n",
       "      <td>15</td>\n",
       "      <td>9</td>\n",
       "      <td>85</td>\n",
       "      <td>77</td>\n",
       "      <td>94</td>\n",
       "      <td>91.332105</td>\n",
       "      <td>PhD</td>\n",
       "      <td>2.330918</td>\n",
       "      <td>Yes</td>\n",
       "      <td>Free or reduced</td>\n",
       "      <td>No</td>\n",
       "      <td>Pass</td>\n",
       "    </tr>\n",
       "  </tbody>\n",
       "</table>\n",
       "</div>"
      ],
      "text/plain": [
       "  student_id       name gender  age  grade_level  math_score  reading_score  \\\n",
       "0         S1  Student_1  Other   17           10          74             61   \n",
       "1         S2  Student_2   Male   17           12          99             70   \n",
       "2         S3  Student_3  Other   17            9          59             60   \n",
       "3         S4  Student_4  Other   17           12          70             88   \n",
       "4         S5  Student_5   Male   15            9          85             77   \n",
       "\n",
       "   writing_score  attendance_rate parent_education  study_hours  \\\n",
       "0             90        94.660002         Master's     4.120192   \n",
       "1             91        93.173227       Bachelor's     2.886505   \n",
       "2             99        98.631098              PhD     1.909926   \n",
       "3             69        96.419620              PhD     1.664740   \n",
       "4             94        91.332105              PhD     2.330918   \n",
       "\n",
       "  internet_access       lunch_type extra_activities final_result  \n",
       "0             Yes  Free or reduced              Yes         Fail  \n",
       "1              No  Free or reduced               No         Pass  \n",
       "2              No  Free or reduced               No         Fail  \n",
       "3              No         Standard               No         Pass  \n",
       "4             Yes  Free or reduced               No         Pass  "
      ]
     },
     "execution_count": 1,
     "metadata": {},
     "output_type": "execute_result"
    }
   ],
   "source": [
    "import pandas as pd\n",
    "df = pd.read_csv('student_info.csv')\n",
    "df.head()"
   ]
  },
  {
   "cell_type": "code",
   "execution_count": 2,
   "id": "8cb930c3-f20a-4200-ad2d-123c8fe2f9ac",
   "metadata": {},
   "outputs": [
    {
     "name": "stdout",
     "output_type": "stream",
     "text": [
      "Shape: (1000, 15)\n",
      "<class 'pandas.core.frame.DataFrame'>\n",
      "RangeIndex: 1000 entries, 0 to 999\n",
      "Data columns (total 15 columns):\n",
      " #   Column            Non-Null Count  Dtype  \n",
      "---  ------            --------------  -----  \n",
      " 0   student_id        1000 non-null   object \n",
      " 1   name              1000 non-null   object \n",
      " 2   gender            1000 non-null   object \n",
      " 3   age               1000 non-null   int64  \n",
      " 4   grade_level       1000 non-null   int64  \n",
      " 5   math_score        1000 non-null   int64  \n",
      " 6   reading_score     1000 non-null   int64  \n",
      " 7   writing_score     1000 non-null   int64  \n",
      " 8   attendance_rate   1000 non-null   float64\n",
      " 9   parent_education  1000 non-null   object \n",
      " 10  study_hours       1000 non-null   float64\n",
      " 11  internet_access   1000 non-null   object \n",
      " 12  lunch_type        1000 non-null   object \n",
      " 13  extra_activities  1000 non-null   object \n",
      " 14  final_result      1000 non-null   object \n",
      "dtypes: float64(2), int64(5), object(8)\n",
      "memory usage: 117.3+ KB\n"
     ]
    },
    {
     "data": {
      "text/html": [
       "<div>\n",
       "<style scoped>\n",
       "    .dataframe tbody tr th:only-of-type {\n",
       "        vertical-align: middle;\n",
       "    }\n",
       "\n",
       "    .dataframe tbody tr th {\n",
       "        vertical-align: top;\n",
       "    }\n",
       "\n",
       "    .dataframe thead th {\n",
       "        text-align: right;\n",
       "    }\n",
       "</style>\n",
       "<table border=\"1\" class=\"dataframe\">\n",
       "  <thead>\n",
       "    <tr style=\"text-align: right;\">\n",
       "      <th></th>\n",
       "      <th>age</th>\n",
       "      <th>grade_level</th>\n",
       "      <th>math_score</th>\n",
       "      <th>reading_score</th>\n",
       "      <th>writing_score</th>\n",
       "      <th>attendance_rate</th>\n",
       "      <th>study_hours</th>\n",
       "    </tr>\n",
       "  </thead>\n",
       "  <tbody>\n",
       "    <tr>\n",
       "      <th>count</th>\n",
       "      <td>1000.000000</td>\n",
       "      <td>1000.000000</td>\n",
       "      <td>1000.000000</td>\n",
       "      <td>1000.000000</td>\n",
       "      <td>1000.000000</td>\n",
       "      <td>1000.000000</td>\n",
       "      <td>1000.000000</td>\n",
       "    </tr>\n",
       "    <tr>\n",
       "      <th>mean</th>\n",
       "      <td>15.999000</td>\n",
       "      <td>10.473000</td>\n",
       "      <td>75.165000</td>\n",
       "      <td>74.293000</td>\n",
       "      <td>75.150000</td>\n",
       "      <td>89.879179</td>\n",
       "      <td>2.978380</td>\n",
       "    </tr>\n",
       "    <tr>\n",
       "      <th>std</th>\n",
       "      <td>0.817109</td>\n",
       "      <td>1.136029</td>\n",
       "      <td>14.304349</td>\n",
       "      <td>14.312652</td>\n",
       "      <td>14.395094</td>\n",
       "      <td>5.725007</td>\n",
       "      <td>1.167780</td>\n",
       "    </tr>\n",
       "    <tr>\n",
       "      <th>min</th>\n",
       "      <td>15.000000</td>\n",
       "      <td>9.000000</td>\n",
       "      <td>50.000000</td>\n",
       "      <td>50.000000</td>\n",
       "      <td>50.000000</td>\n",
       "      <td>80.000614</td>\n",
       "      <td>1.015673</td>\n",
       "    </tr>\n",
       "    <tr>\n",
       "      <th>25%</th>\n",
       "      <td>15.000000</td>\n",
       "      <td>9.000000</td>\n",
       "      <td>63.000000</td>\n",
       "      <td>62.000000</td>\n",
       "      <td>63.000000</td>\n",
       "      <td>84.971772</td>\n",
       "      <td>1.955287</td>\n",
       "    </tr>\n",
       "    <tr>\n",
       "      <th>50%</th>\n",
       "      <td>16.000000</td>\n",
       "      <td>10.000000</td>\n",
       "      <td>75.000000</td>\n",
       "      <td>74.000000</td>\n",
       "      <td>75.000000</td>\n",
       "      <td>89.980889</td>\n",
       "      <td>2.962665</td>\n",
       "    </tr>\n",
       "    <tr>\n",
       "      <th>75%</th>\n",
       "      <td>17.000000</td>\n",
       "      <td>12.000000</td>\n",
       "      <td>88.000000</td>\n",
       "      <td>86.000000</td>\n",
       "      <td>88.000000</td>\n",
       "      <td>94.629778</td>\n",
       "      <td>3.994360</td>\n",
       "    </tr>\n",
       "    <tr>\n",
       "      <th>max</th>\n",
       "      <td>17.000000</td>\n",
       "      <td>12.000000</td>\n",
       "      <td>99.000000</td>\n",
       "      <td>99.000000</td>\n",
       "      <td>99.000000</td>\n",
       "      <td>99.954988</td>\n",
       "      <td>4.997843</td>\n",
       "    </tr>\n",
       "  </tbody>\n",
       "</table>\n",
       "</div>"
      ],
      "text/plain": [
       "               age  grade_level   math_score  reading_score  writing_score  \\\n",
       "count  1000.000000  1000.000000  1000.000000    1000.000000    1000.000000   \n",
       "mean     15.999000    10.473000    75.165000      74.293000      75.150000   \n",
       "std       0.817109     1.136029    14.304349      14.312652      14.395094   \n",
       "min      15.000000     9.000000    50.000000      50.000000      50.000000   \n",
       "25%      15.000000     9.000000    63.000000      62.000000      63.000000   \n",
       "50%      16.000000    10.000000    75.000000      74.000000      75.000000   \n",
       "75%      17.000000    12.000000    88.000000      86.000000      88.000000   \n",
       "max      17.000000    12.000000    99.000000      99.000000      99.000000   \n",
       "\n",
       "       attendance_rate  study_hours  \n",
       "count      1000.000000  1000.000000  \n",
       "mean         89.879179     2.978380  \n",
       "std           5.725007     1.167780  \n",
       "min          80.000614     1.015673  \n",
       "25%          84.971772     1.955287  \n",
       "50%          89.980889     2.962665  \n",
       "75%          94.629778     3.994360  \n",
       "max          99.954988     4.997843  "
      ]
     },
     "execution_count": 2,
     "metadata": {},
     "output_type": "execute_result"
    }
   ],
   "source": [
    "print(\"Shape:\", df.shape)\n",
    "df.info()\n",
    "df.describe()"
   ]
  },
  {
   "cell_type": "code",
   "execution_count": 3,
   "id": "c5ebea2b-0140-48f6-94b0-f358e271ad5e",
   "metadata": {},
   "outputs": [
    {
     "data": {
      "text/plain": [
       "student_id          0\n",
       "name                0\n",
       "gender              0\n",
       "age                 0\n",
       "grade_level         0\n",
       "math_score          0\n",
       "reading_score       0\n",
       "writing_score       0\n",
       "attendance_rate     0\n",
       "parent_education    0\n",
       "study_hours         0\n",
       "internet_access     0\n",
       "lunch_type          0\n",
       "extra_activities    0\n",
       "final_result        0\n",
       "dtype: int64"
      ]
     },
     "execution_count": 3,
     "metadata": {},
     "output_type": "execute_result"
    }
   ],
   "source": [
    "df.isnull().sum()"
   ]
  },
  {
   "cell_type": "code",
   "execution_count": 5,
   "id": "9489e638-5f08-49f3-af0d-8b2dec622d51",
   "metadata": {},
   "outputs": [
    {
     "data": {
      "text/plain": [
       "gender\n",
       "Male      355\n",
       "Female    326\n",
       "Other     319\n",
       "Name: count, dtype: int64"
      ]
     },
     "execution_count": 5,
     "metadata": {},
     "output_type": "execute_result"
    }
   ],
   "source": [
    "df['gender'].value_counts()\n"
   ]
  },
  {
   "cell_type": "code",
   "execution_count": 7,
   "id": "f6db7b04-1063-4067-b0a1-943883380916",
   "metadata": {},
   "outputs": [],
   "source": [
    "import matplotlib.pyplot as plt\n",
    "import seaborn as sns\n",
    "sns.set(style=\"whitegrid\")\n"
   ]
  },
  {
   "cell_type": "code",
   "execution_count": 9,
   "id": "fd92af59-6e41-4060-add8-b579b2c9f055",
   "metadata": {},
   "outputs": [
    {
     "data": {
      "image/png": "[encoded data removed]",
      "text/plain": [
       "<Figure size 640x480 with 1 Axes>"
      ]
     },
     "metadata": {},
     "output_type": "display_data"
    }
   ],
   "source": [
    "sns.countplot(data=df, x='gender')\n",
    "plt.title(\"Number of Students by Gender\")\n",
    "plt.xlabel(\"Gender\")\n",
    "plt.ylabel(\"Counts\")\n",
    "plt.show()\n"
   ]
  },
  {
   "cell_type": "code",
   "execution_count": 11,
   "id": "a21aeb1b-3706-4886-8559-b14ccd04a329",
   "metadata": {},
   "outputs": [
    {
     "data": {
      "image/png": "[encoded data removed]",
      "text/plain": [
       "<Figure size 640x480 with 1 Axes>"
      ]
     },
     "metadata": {},
     "output_type": "display_data"
    }
   ],
   "source": [
    "sns.histplot(df['math_score'], kde=True)\n",
    "plt.title(\"Marks Distribution\")\n",
    "plt.xlabel(\"Marks\")\n",
    "plt.ylabel(\"Frequency\")\n",
    "plt.show()\n"
   ]
  },
  {
   "cell_type": "code",
   "execution_count": 12,
   "id": "6709e80e-6949-4609-a939-4743e595150b",
   "metadata": {},
   "outputs": [
    {
     "data": {
      "image/png": "[encoded data removed]",
      "text/plain": [
       "<Figure size 640x480 with 1 Axes>"
      ]
     },
     "metadata": {},
     "output_type": "display_data"
    }
   ],
   "source": [
    "sns.histplot(df['reading_score'], kde=True)\n",
    "plt.title(\"Marks Distribution\")\n",
    "plt.xlabel(\"Marks\")\n",
    "plt.ylabel(\"Frequency\")\n",
    "plt.show()\n"
   ]
  },
  {
   "cell_type": "code",
   "execution_count": 14,
   "id": "8712a587-8a2a-4f0d-99d2-adc3159b92e6",
   "metadata": {},
   "outputs": [
    {
     "data": {
      "image/png": "[encoded data removed]",
      "text/plain": [
       "<Figure size 640x480 with 1 Axes>"
      ]
     },
     "metadata": {},
     "output_type": "display_data"
    }
   ],
   "source": [
    "sns.histplot(df['writing_score'], kde=True)\n",
    "plt.title(\"Marks Distribution\")\n",
    "plt.xlabel(\"Marks\")\n",
    "plt.ylabel(\"Frequency\")\n",
    "plt.show()\n"
   ]
  },
  {
   "cell_type": "code",
   "execution_count": 17,
   "id": "252e0e9a-b5ea-4cf4-932b-ae5636a52917",
   "metadata": {},
   "outputs": [
    {
     "data": {
      "image/png": "[encoded data removed]",
      "text/plain": [
       "<Figure size 640x480 with 1 Axes>"
      ]
     },
     "metadata": {},
     "output_type": "display_data"
    }
   ],
   "source": [
    "plt.bar(df['math_score'],df['reading_score'],df['writing_score'])\n",
    "plt.title(\"Marks Distribution\")\n",
    "plt.xlabel(\"Marks\")\n",
    "plt.ylabel(\"Frequency\")\n",
    "plt.show()\n"
   ]
  },
  {
   "cell_type": "code",
   "execution_count": 18,
   "id": "c88dce39-07d4-4f2f-8cc9-987e1ac77593",
   "metadata": {},
   "outputs": [
    {
     "data": {
      "image/png": "[encoded data removed]",
      "text/plain": [
       "<Figure size 640x480 with 1 Axes>"
      ]
     },
     "metadata": {},
     "output_type": "display_data"
    }
   ],
   "source": [
    "sns.boxplot(x='gender', y='math_score', data=df)\n",
    "plt.title(\"Math Score by Gender\")\n",
    "plt.show()"
   ]
  },
  {
   "cell_type": "code",
   "execution_count": 21,
   "id": "05e9c8ab-6396-4ee8-935b-ef950817b737",
   "metadata": {},
   "outputs": [
    {
     "data": {
      "image/png": "[encoded data removed]",
      "text/plain": [
       "<Figure size 640x480 with 1 Axes>"
      ]
     },
     "metadata": {},
     "output_type": "display_data"
    }
   ],
   "source": [
    "sns.boxplot(data=df, x='gender', y='grade_level')\n",
    "plt.title(\"Marks by Gender\")\n",
    "plt.xlabel(\"Gender\")\n",
    "plt.ylabel(\"Marks\")\n",
    "plt.show()\n"
   ]
  },
  {
   "cell_type": "code",
   "execution_count": 24,
   "id": "d6634dcf-1b87-4a86-ae04-2d071f67264e",
   "metadata": {},
   "outputs": [
    {
     "data": {
      "image/png": "[encoded data removed]",
      "text/plain": [
       "<Figure size 640x480 with 1 Axes>"
      ]
     },
     "metadata": {},
     "output_type": "display_data"
    }
   ],
   "source": [
    "df['gender'].value_counts().plot.pie(autopct='%1.1f%%', colors=['skyblue', 'lightcoral'])\n",
    "plt.title(\"gender Distribution\")\n",
    "plt.ylabel(\"\")\n",
    "plt.show()\n"
   ]
  },
  {
   "cell_type": "code",
   "execution_count": 26,
   "id": "effbff55-b925-45b7-a8d9-d55ea6439d45",
   "metadata": {},
   "outputs": [
    {
     "data": {
      "image/png": "[encoded data removed]",
      "text/plain": [
       "<Figure size 640x480 with 2 Axes>"
      ]
     },
     "metadata": {},
     "output_type": "display_data"
    }
   ],
   "source": [
    "# Only select numeric columns before computing correlation\n",
    "numeric_df = df.select_dtypes(include='number')\n",
    "\n",
    "# Now plot the heatmap\n",
    "import seaborn as sns\n",
    "import matplotlib.pyplot as plt\n",
    "\n",
    "sns.heatmap(numeric_df.corr(), annot=True, cmap=\"coolwarm\")\n",
    "plt.title(\"Correlation Heatmap\")\n",
    "plt.show()"
   ]
  },
  {
   "cell_type": "code",
   "execution_count": 28,
   "id": "9fa473d2-991f-4051-a244-bdf82a0b6ede",
   "metadata": {},
   "outputs": [
    {
     "data": {
      "image/png": "[encoded data removed]",
      "text/plain": [
       "<Figure size 640x480 with 1 Axes>"
      ]
     },
     "metadata": {},
     "output_type": "display_data"
    }
   ],
   "source": [
    "sns.scatterplot(data=df, x='age', y='grade_level', hue='gender')\n",
    "plt.title(\"Marks vs Age\")\n",
    "plt.xlabel(\"Age\")\n",
    "plt.ylabel(\"Marks\")\n",
    "plt.show()\n"
   ]
  },
  {
   "cell_type": "code",
   "execution_count": 32,
   "id": "fadaf0cc-0eb2-4f19-8a74-f3d673f7d479",
   "metadata": {},
   "outputs": [],
   "source": [
    "main=df.groupby('gender')['attendance_rate'].mean()"
   ]
  },
  {
   "cell_type": "code",
   "execution_count": 33,
   "id": "f2727f6c-13ac-44eb-a660-73afe2d02660",
   "metadata": {},
   "outputs": [
    {
     "data": {
      "text/plain": [
       "gender\n",
       "Female    90.125549\n",
       "Male      89.629485\n",
       "Other     89.905276\n",
       "Name: attendance_rate, dtype: float64"
      ]
     },
     "execution_count": 33,
     "metadata": {},
     "output_type": "execute_result"
    }
   ],
   "source": [
    "main"
   ]
  },
  {
   "cell_type": "code",
   "execution_count": 34,
   "id": "8776d9cf-e111-4a43-8106-284553b5d5bc",
   "metadata": {},
   "outputs": [
    {
     "data": {
      "text/plain": [
       "<Axes: xlabel='gender'>"
      ]
     },
     "execution_count": 34,
     "metadata": {},
     "output_type": "execute_result"
    },
    {
     "data": {
      "image/png": "[encoded data removed]",
      "text/plain": [
       "<Figure size 640x480 with 1 Axes>"
      ]
     },
     "metadata": {},
     "output_type": "display_data"
    }
   ],
   "source": [
    "main.sort_values().plot()"
   ]
  },
  {
   "cell_type": "code",
   "execution_count": 35,
   "id": "c26566f2-257d-4f19-9f07-7f85e079f28c",
   "metadata": {},
   "outputs": [],
   "source": [
    "main2=df.groupby('final_result')['study_hours'].mean()"
   ]
  },
  {
   "cell_type": "code",
   "execution_count": 41,
   "id": "08c0ac16-9780-484b-9c5a-91540fbfde92",
   "metadata": {},
   "outputs": [
    {
     "data": {
      "text/plain": [
       "<Axes: title={'center': 'school final result'}, xlabel='study_hours', ylabel='final_results'>"
      ]
     },
     "execution_count": 41,
     "metadata": {},
     "output_type": "execute_result"
    },
    {
     "data": {
      "image/png": "[encoded data removed]",
      "text/plain": [
       "<Figure size 640x480 with 1 Axes>"
      ]
     },
     "metadata": {},
     "output_type": "display_data"
    }
   ],
   "source": [
    "main2.plot(kind='barh', title='school final result',xlabel=\"study_hours\",ylabel=\"final_results\")"
   ]
  },
  {
   "cell_type": "code",
   "execution_count": 42,
   "id": "8eb8bb65-f7e6-4b21-a1cb-595607e2014b",
   "metadata": {},
   "outputs": [
    {
     "data": {
      "text/plain": [
       "<Axes: title={'center': 'school final result'}, xlabel='study_hours', ylabel='final_results'>"
      ]
     },
     "execution_count": 42,
     "metadata": {},
     "output_type": "execute_result"
    },
    {
     "data": {
      "image/png": "[encoded data removed]",
      "text/plain": [
       "<Figure size 640x480 with 1 Axes>"
      ]
     },
     "metadata": {},
     "output_type": "display_data"
    }
   ],
   "source": [
    "main2.plot(kind='bar', title='school final result',xlabel=\"study_hours\",ylabel=\"final_results\")"
   ]
  },
  {
   "cell_type": "code",
   "execution_count": 45,
   "id": "8901d332-80f2-4370-a359-eda1d7093c8d",
   "metadata": {},
   "outputs": [
    {
     "data": {
      "image/png": "[encoded data removed]",
      "text/plain": [
       "<Figure size 640x480 with 1 Axes>"
      ]
     },
     "metadata": {},
     "output_type": "display_data"
    }
   ],
   "source": [
    "final_counts = df['final_result'].value_counts()\n",
    "plt.pie(final_counts, labels=final_counts.index, autopct='%1.1f%%', startangle=140)\n",
    "plt.title(\"Final Result Distribution\")\n",
    "plt.axis('equal')  \n",
    "plt.show()"
   ]
  },
  {
   "cell_type": "code",
   "execution_count": 47,
   "id": "788cec82-f62d-4f5a-ae95-93542dfb0cce",
   "metadata": {},
   "outputs": [],
   "source": [
    "import plotly.express as px\n"
   ]
  },
  {
   "cell_type": "code",
   "execution_count": 50,
   "id": "bb8e7686-593e-4c1a-8c68-a2aacb57145f",
   "metadata": {},
   "outputs": [
    {
     "data": {
      "application/vnd.plotly.v1+json": {
       "config": {
        "plotlyServerURL": "https://plot.ly"
       },
       "data": [
        {
         "hovertemplate": "gender=Other<br>age=%{x}<br>final_result=%{y}<extra></extra>",
         "legendgroup": "Other",
         "marker": {
          "color": "#636efa",
          "symbol": "circle"
         },
         "mode": "markers",
         "name": "Other",
         "orientation": "h",
         "showlegend": true,
         "type": "scatter",
         "x": {
          "bdata": "EREREBEREBAQEBEPERAPEBERERAPDw8REA8QEQ8QDxARDw8REQ8REREQERERDxAQDw8PEQ8QDxEPEQ8RDxEPEBAREA8RDxEPEA8PERERDxAPEQ8QEQ8RERAREA8PERARDxAQEREQDw8QEBAREBEPERAREQ8REBEREQ8PEA8QEQ8QDxAQEBAPDxAQEBAREQ8REBEPDw8QEBAQERARDxARDxEPDw8PDxEQEQ8QDxEPEREQDxAREBERDxERDxAREBEPEBEPDw8REQ8PERAQEBEQERAPERAPEBAPDxARDw8PDw8QEREPDw8RDw8QDxERDxERDxEQERAPDw8PEREPEBAREQ8RDxAQERAPERERERARDxAQERARDw8QEA8PEBAQEA8QEBEPDxAREBAPEBAPDw8PEBAQEBARDxEQEBAQEA8QEQ==",
          "dtype": "i1"
         },
         "xaxis": "x",
         "y": [
          "Fail",
          "Fail",
          "Pass",
          "Pass",
          "Pass",
          "Fail",
          "Pass",
          "Pass",
          "Fail",
          "Fail",
          "Fail",
          "Pass",
          "Pass",
          "Pass",
          "Fail",
          "Pass",
          "Fail",
          "Pass",
          "Fail",
          "Fail",
          "Pass",
          "Fail",
          "Pass",
          "Fail",
          "Fail",
          "Pass",
          "Fail",
          "Pass",
          "Fail",
          "Pass",
          "Fail",
          "Fail",
          "Fail",
          "Pass",
          "Fail",
          "Fail",
          "Pass",
          "Pass",
          "Fail",
          "Pass",
          "Fail",
          "Pass",
          "Pass",
          "Pass",
          "Pass",
          "Fail",
          "Pass",
          "Fail",
          "Pass",
          "Pass",
          "Pass",
          "Fail",
          "Fail",
          "Fail",
          "Pass",
          "Fail",
          "Fail",
          "Pass",
          "Fail",
          "Pass",
          "Fail",
          "Fail",
          "Pass",
          "Pass",
          "Fail",
          "Fail",
          "Pass",
          "Fail",
          "Fail",
          "Fail",
          "Fail",
          "Pass",
          "Pass",
          "Pass",
          "Fail",
          "Fail",
          "Fail",
          "Pass",
          "Pass",
          "Pass",
          "Fail",
          "Pass",
          "Fail",
          "Pass",
          "Pass",
          "Fail",
          "Pass",
          "Pass",
          "Fail",
          "Fail",
          "Pass",
          "Pass",
          "Fail",
          "Pass",
          "Pass",
          "Fail",
          "Pass",
          "Fail",
          "Fail",
          "Fail",
          "Pass",
          "Pass",
          "Pass",
          "Pass",
          "Pass",
          "Pass",
          "Fail",
          "Fail",
          "Fail",
          "Pass",
          "Fail",
          "Pass",
          "Fail",
          "Pass",
          "Pass",
          "Pass",
          "Pass",
          "Fail",
          "Pass",
          "Pass",
          "Fail",
          "Pass",
          "Pass",
          "Pass",
          "Fail",
          "Fail",
          "Pass",
          "Pass",
          "Pass",
          "Pass",
          "Fail",
          "Pass",
          "Fail",
          "Pass",
          "Pass",
          "Pass",
          "Pass",
          "Fail",
          "Pass",
          "Pass",
          "Pass",
          "Pass",
          "Pass",
          "Pass",
          "Fail",
          "Pass",
          "Pass",
          "Fail",
          "Fail",
          "Fail",
          "Fail",
          "Pass",
          "Fail",
          "Pass",
          "Fail",
          "Fail",
          "Fail",
          "Fail",
          "Fail",
          "Fail",
          "Pass",
          "Fail",
          "Pass",
          "Fail",
          "Fail",
          "Fail",
          "Fail",
          "Fail",
          "Fail",
          "Fail",
          "Pass",
          "Pass",
          "Pass",
          "Fail",
          "Fail",
          "Fail",
          "Pass",
          "Fail",
          "Fail",
          "Pass",
          "Fail",
          "Fail",
          "Fail",
          "Pass",
          "Fail",
          "Pass",
          "Fail",
          "Pass",
          "Pass",
          "Pass",
          "Pass",
          "Pass",
          "Fail",
          "Pass",
          "Fail",
          "Fail",
          "Pass",
          "Pass",
          "Pass",
          "Pass",
          "Pass",
          "Pass",
          "Pass",
          "Fail",
          "Fail",
          "Pass",
          "Fail",
          "Pass",
          "Pass",
          "Pass",
          "Fail",
          "Fail",
          "Fail",
          "Pass",
          "Fail",
          "Fail",
          "Fail",
          "Pass",
          "Fail",
          "Fail",
          "Fail",
          "Pass",
          "Fail",
          "Pass",
          "Fail",
          "Pass",
          "Pass",
          "Fail",
          "Pass",
          "Pass",
          "Pass",
          "Fail",
          "Fail",
          "Fail",
          "Fail",
          "Fail",
          "Pass",
          "Fail",
          "Pass",
          "Pass",
          "Fail",
          "Fail",
          "Pass",
          "Pass",
          "Fail",
          "Fail",
          "Pass",
          "Fail",
          "Pass",
          "Pass",
          "Pass",
          "Fail",
          "Pass",
          "Pass",
          "Fail",
          "Pass",
          "Pass",
          "Pass",
          "Pass",
          "Pass",
          "Pass",
          "Fail",
          "Pass",
          "Fail",
          "Fail",
          "Pass",
          "Fail",
          "Pass",
          "Fail",
          "Fail",
          "Fail",
          "Pass",
          "Fail",
          "Fail",
          "Pass",
          "Pass",
          "Pass",
          "Pass",
          "Fail",
          "Fail",
          "Fail",
          "Pass",
          "Fail",
          "Fail",
          "Pass",
          "Pass",
          "Pass",
          "Pass",
          "Fail",
          "Pass",
          "Pass",
          "Pass",
          "Pass",
          "Fail",
          "Fail",
          "Fail",
          "Fail",
          "Pass",
          "Pass",
          "Fail",
          "Fail",
          "Fail",
          "Pass",
          "Pass",
          "Pass",
          "Pass",
          "Pass",
          "Pass",
          "Pass",
          "Fail",
          "Pass",
          "Pass",
          "Fail",
          "Fail",
          "Fail",
          "Pass",
          "Fail",
          "Pass",
          "Pass"
         ],
         "yaxis": "y"
        },
        {
         "hovertemplate": "gender=Male<br>age=%{x}<br>final_result=%{y}<extra></extra>",
         "legendgroup": "Male",
         "marker": {
          "color": "#EF553B",
          "symbol": "circle"
         },
         "mode": "markers",
         "name": "Male",
         "orientation": "h",
         "showlegend": true,
         "type": "scatter",
         "x": {
          "bdata": "EQ8RDxEREA8QEBEPDxAPDw8PEBAPEBAPEREQEA8PEBAREBEPERAPEBAREREREBAPEBEPDxEQERAQEBEQEA8PEA8PEBAPEBAQDxERDw8RERAREQ8PEBAPDw8PEBEREA8RERAQDw8RERAQEBEPDxEPERAQDw8REBEQDxERDxAPEA8QEQ8QEQ8QEA8PEA8RDxERDxERDw8REREREBAPEREPEA8QDw8QERAQDxAPEQ8PERAQDxAPEA8QEREQEBEREBERDxEQEBERDxAPEA8QERAQEREQEA8QDw8QEA8QDw8RDw8REBARDxERDw8QDxEPEQ8REBEQEREQDw8QEREPEBAREBAPDxAPEA8REBEQDw8PEBEPDxEQEQ8REBAREBAPERAPEBEPERAPEBAQEQ8REREPEBEPEA8PEQ8RDxEPEREREBAPEBAPERAPERAQERAPDw8REBAQEQ8RDxAPEBEREBEREQ8QEQ==",
          "dtype": "i1"
         },
         "xaxis": "x",
         "y": [
          "Pass",
          "Pass",
          "Fail",
          "Pass",
          "Fail",
          "Fail",
          "Pass",
          "Fail",
          "Pass",
          "Pass",
          "Fail",
          "Pass",
          "Pass",
          "Pass",
          "Fail",
          "Pass",
          "Pass",
          "Pass",
          "Pass",
          "Fail",
          "Pass",
          "Pass",
          "Pass",
          "Fail",
          "Pass",
          "Pass",
          "Pass",
          "Pass",
          "Fail",
          "Fail",
          "Pass",
          "Pass",
          "Pass",
          "Pass",
          "Pass",
          "Pass",
          "Pass",
          "Fail",
          "Fail",
          "Fail",
          "Pass",
          "Fail",
          "Fail",
          "Fail",
          "Pass",
          "Fail",
          "Fail",
          "Fail",
          "Pass",
          "Fail",
          "Pass",
          "Pass",
          "Fail",
          "Pass",
          "Pass",
          "Pass",
          "Pass",
          "Fail",
          "Fail",
          "Fail",
          "Fail",
          "Fail",
          "Pass",
          "Pass",
          "Fail",
          "Fail",
          "Pass",
          "Fail",
          "Fail",
          "Fail",
          "Fail",
          "Pass",
          "Fail",
          "Pass",
          "Fail",
          "Fail",
          "Fail",
          "Pass",
          "Fail",
          "Fail",
          "Pass",
          "Fail",
          "Pass",
          "Fail",
          "Pass",
          "Pass",
          "Pass",
          "Pass",
          "Pass",
          "Pass",
          "Pass",
          "Fail",
          "Pass",
          "Pass",
          "Fail",
          "Pass",
          "Pass",
          "Fail",
          "Pass",
          "Pass",
          "Pass",
          "Pass",
          "Fail",
          "Pass",
          "Pass",
          "Pass",
          "Fail",
          "Pass",
          "Pass",
          "Fail",
          "Pass",
          "Fail",
          "Fail",
          "Fail",
          "Pass",
          "Pass",
          "Fail",
          "Fail",
          "Pass",
          "Fail",
          "Fail",
          "Pass",
          "Fail",
          "Fail",
          "Pass",
          "Pass",
          "Pass",
          "Fail",
          "Fail",
          "Pass",
          "Fail",
          "Pass",
          "Fail",
          "Pass",
          "Pass",
          "Pass",
          "Fail",
          "Pass",
          "Fail",
          "Fail",
          "Fail",
          "Fail",
          "Pass",
          "Pass",
          "Pass",
          "Fail",
          "Pass",
          "Pass",
          "Pass",
          "Fail",
          "Fail",
          "Pass",
          "Fail",
          "Fail",
          "Pass",
          "Pass",
          "Fail",
          "Pass",
          "Fail",
          "Fail",
          "Fail",
          "Pass",
          "Pass",
          "Pass",
          "Fail",
          "Fail",
          "Pass",
          "Fail",
          "Fail",
          "Fail",
          "Pass",
          "Pass",
          "Pass",
          "Fail",
          "Fail",
          "Fail",
          "Pass",
          "Pass",
          "Fail",
          "Pass",
          "Fail",
          "Pass",
          "Fail",
          "Pass",
          "Pass",
          "Pass",
          "Fail",
          "Fail",
          "Pass",
          "Fail",
          "Pass",
          "Pass",
          "Pass",
          "Pass",
          "Pass",
          "Fail",
          "Fail",
          "Pass",
          "Fail",
          "Pass",
          "Fail",
          "Fail",
          "Fail",
          "Pass",
          "Fail",
          "Pass",
          "Fail",
          "Pass",
          "Fail",
          "Pass",
          "Pass",
          "Fail",
          "Pass",
          "Pass",
          "Fail",
          "Fail",
          "Pass",
          "Pass",
          "Fail",
          "Fail",
          "Fail",
          "Pass",
          "Fail",
          "Pass",
          "Fail",
          "Fail",
          "Fail",
          "Fail",
          "Fail",
          "Fail",
          "Fail",
          "Pass",
          "Pass",
          "Fail",
          "Pass",
          "Fail",
          "Fail",
          "Pass",
          "Fail",
          "Fail",
          "Fail",
          "Pass",
          "Pass",
          "Fail",
          "Pass",
          "Fail",
          "Pass",
          "Pass",
          "Fail",
          "Fail",
          "Pass",
          "Pass",
          "Pass",
          "Pass",
          "Fail",
          "Pass",
          "Fail",
          "Pass",
          "Fail",
          "Fail",
          "Pass",
          "Pass",
          "Fail",
          "Pass",
          "Pass",
          "Pass",
          "Pass",
          "Pass",
          "Pass",
          "Fail",
          "Pass",
          "Fail",
          "Pass",
          "Pass",
          "Pass",
          "Fail",
          "Fail",
          "Fail",
          "Fail",
          "Fail",
          "Fail",
          "Fail",
          "Fail",
          "Pass",
          "Pass",
          "Pass",
          "Pass",
          "Pass",
          "Fail",
          "Pass",
          "Pass",
          "Pass",
          "Pass",
          "Pass",
          "Fail",
          "Fail",
          "Pass",
          "Pass",
          "Pass",
          "Fail",
          "Pass",
          "Fail",
          "Fail",
          "Fail",
          "Pass",
          "Pass",
          "Fail",
          "Fail",
          "Fail",
          "Fail",
          "Pass",
          "Pass",
          "Fail",
          "Fail",
          "Fail",
          "Pass",
          "Pass",
          "Fail",
          "Fail",
          "Fail",
          "Fail",
          "Pass",
          "Fail",
          "Fail",
          "Pass",
          "Pass",
          "Fail",
          "Pass",
          "Pass",
          "Fail",
          "Pass",
          "Fail",
          "Pass",
          "Fail",
          "Fail",
          "Pass",
          "Pass",
          "Pass",
          "Fail",
          "Fail",
          "Fail",
          "Fail",
          "Fail",
          "Fail",
          "Fail",
          "Fail",
          "Fail",
          "Fail",
          "Pass",
          "Pass",
          "Pass",
          "Fail",
          "Pass",
          "Fail",
          "Pass"
         ],
         "yaxis": "y"
        },
        {
         "hovertemplate": "gender=Female<br>age=%{x}<br>final_result=%{y}<extra></extra>",
         "legendgroup": "Female",
         "marker": {
          "color": "#00cc96",
          "symbol": "circle"
         },
         "mode": "markers",
         "name": "Female",
         "orientation": "h",
         "showlegend": true,
         "type": "scatter",
         "x": {
          "bdata": "EBAQDxAREQ8PDxAQEBEQEBAREREREBEPDxAPEQ8QEREPDxEPDw8QEREPDw8QEBAQEREREQ8REBEPEREQEQ8RERAPERAPDxAPEBAQEREPEQ8PDxERDw8QDxEPEBAQEREREQ8PDxEREBEREBAREREREBERDxAPERARDxEQDxARDw8PEBAQEA8PEBAPEBAQDw8QEA8PEQ8REBAREBEQDw8PDxEREREQEBEREQ8PEREQEQ8QERARDxERDxAPEQ8PEA8REA8RDxAPDxAPDxEPDxEQDxEQERAREA8QEBAPEQ8PDxEQEREPEBAPEQ8PEREPDxEQEBEQDxEREBAQDxEPEBAPEBAQDxERERAQEA8PEQ8PERARDxEQEQ8REQ8RDw8REREPEBAPDw8PEQ8REA8PEBEQDxAPEREQEBEQEQ8QEREREBAREBEPDxE=",
          "dtype": "i1"
         },
         "xaxis": "x",
         "y": [
          "Pass",
          "Fail",
          "Fail",
          "Fail",
          "Pass",
          "Fail",
          "Fail",
          "Pass",
          "Pass",
          "Pass",
          "Pass",
          "Pass",
          "Fail",
          "Pass",
          "Pass",
          "Fail",
          "Fail",
          "Fail",
          "Pass",
          "Fail",
          "Pass",
          "Pass",
          "Pass",
          "Fail",
          "Fail",
          "Fail",
          "Pass",
          "Pass",
          "Fail",
          "Pass",
          "Pass",
          "Pass",
          "Fail",
          "Fail",
          "Pass",
          "Pass",
          "Fail",
          "Fail",
          "Fail",
          "Fail",
          "Pass",
          "Fail",
          "Pass",
          "Fail",
          "Pass",
          "Pass",
          "Pass",
          "Pass",
          "Pass",
          "Fail",
          "Fail",
          "Fail",
          "Pass",
          "Pass",
          "Pass",
          "Fail",
          "Fail",
          "Fail",
          "Pass",
          "Fail",
          "Pass",
          "Pass",
          "Pass",
          "Fail",
          "Fail",
          "Fail",
          "Fail",
          "Pass",
          "Pass",
          "Pass",
          "Pass",
          "Fail",
          "Fail",
          "Pass",
          "Pass",
          "Pass",
          "Pass",
          "Pass",
          "Pass",
          "Pass",
          "Pass",
          "Pass",
          "Pass",
          "Fail",
          "Fail",
          "Pass",
          "Fail",
          "Pass",
          "Pass",
          "Pass",
          "Fail",
          "Pass",
          "Fail",
          "Fail",
          "Pass",
          "Fail",
          "Fail",
          "Pass",
          "Pass",
          "Pass",
          "Fail",
          "Fail",
          "Pass",
          "Pass",
          "Fail",
          "Pass",
          "Pass",
          "Fail",
          "Pass",
          "Fail",
          "Pass",
          "Fail",
          "Fail",
          "Fail",
          "Fail",
          "Fail",
          "Fail",
          "Pass",
          "Fail",
          "Fail",
          "Fail",
          "Pass",
          "Fail",
          "Fail",
          "Fail",
          "Pass",
          "Pass",
          "Fail",
          "Pass",
          "Pass",
          "Pass",
          "Pass",
          "Pass",
          "Fail",
          "Pass",
          "Pass",
          "Pass",
          "Pass",
          "Pass",
          "Pass",
          "Pass",
          "Pass",
          "Fail",
          "Fail",
          "Pass",
          "Fail",
          "Fail",
          "Fail",
          "Pass",
          "Fail",
          "Pass",
          "Pass",
          "Fail",
          "Pass",
          "Pass",
          "Pass",
          "Fail",
          "Fail",
          "Fail",
          "Fail",
          "Fail",
          "Fail",
          "Fail",
          "Fail",
          "Pass",
          "Pass",
          "Fail",
          "Pass",
          "Pass",
          "Pass",
          "Pass",
          "Pass",
          "Pass",
          "Fail",
          "Pass",
          "Pass",
          "Pass",
          "Fail",
          "Fail",
          "Fail",
          "Pass",
          "Pass",
          "Pass",
          "Pass",
          "Pass",
          "Pass",
          "Pass",
          "Pass",
          "Fail",
          "Pass",
          "Fail",
          "Fail",
          "Fail",
          "Fail",
          "Fail",
          "Fail",
          "Pass",
          "Pass",
          "Fail",
          "Pass",
          "Pass",
          "Fail",
          "Fail",
          "Fail",
          "Fail",
          "Fail",
          "Pass",
          "Pass",
          "Pass",
          "Fail",
          "Fail",
          "Pass",
          "Fail",
          "Pass",
          "Fail",
          "Fail",
          "Fail",
          "Fail",
          "Fail",
          "Fail",
          "Pass",
          "Pass",
          "Fail",
          "Fail",
          "Pass",
          "Fail",
          "Fail",
          "Pass",
          "Fail",
          "Fail",
          "Pass",
          "Pass",
          "Fail",
          "Fail",
          "Pass",
          "Fail",
          "Fail",
          "Fail",
          "Pass",
          "Pass",
          "Pass",
          "Fail",
          "Pass",
          "Pass",
          "Pass",
          "Pass",
          "Fail",
          "Pass",
          "Fail",
          "Fail",
          "Fail",
          "Pass",
          "Pass",
          "Fail",
          "Pass",
          "Fail",
          "Pass",
          "Pass",
          "Fail",
          "Pass",
          "Fail",
          "Fail",
          "Pass",
          "Pass",
          "Pass",
          "Fail",
          "Fail",
          "Fail",
          "Pass",
          "Pass",
          "Fail",
          "Fail",
          "Fail",
          "Fail",
          "Pass",
          "Pass",
          "Pass",
          "Fail",
          "Pass",
          "Pass",
          "Fail",
          "Pass",
          "Fail",
          "Fail",
          "Pass",
          "Pass",
          "Pass",
          "Fail",
          "Pass",
          "Fail",
          "Pass",
          "Pass",
          "Fail",
          "Pass",
          "Fail",
          "Fail",
          "Fail",
          "Fail",
          "Pass",
          "Pass",
          "Pass",
          "Fail",
          "Fail",
          "Pass",
          "Fail",
          "Fail",
          "Pass",
          "Fail",
          "Fail",
          "Fail",
          "Fail",
          "Fail",
          "Fail",
          "Pass",
          "Pass",
          "Pass",
          "Pass",
          "Fail",
          "Fail",
          "Fail",
          "Pass",
          "Fail",
          "Pass",
          "Fail",
          "Fail",
          "Fail"
         ],
         "yaxis": "y"
        }
       ],
       "layout": {
        "legend": {
         "title": {
          "text": "gender"
         },
         "tracegroupgap": 0
        },
        "template": {
         "data": {
          "bar": [
           {
            "error_x": {
             "color": "#2a3f5f"
            },
            "error_y": {
             "color": "#2a3f5f"
            },
            "marker": {
             "line": {
              "color": "#E5ECF6",
              "width": 0.5
             },
             "pattern": {
              "fillmode": "overlay",
              "size": 10,
              "solidity": 0.2
             }
            },
            "type": "bar"
           }
          ],
          "barpolar": [
           {
            "marker": {
             "line": {
              "color": "#E5ECF6",
              "width": 0.5
             },
             "pattern": {
              "fillmode": "overlay",
              "size": 10,
              "solidity": 0.2
             }
            },
            "type": "barpolar"
           }
          ],
          "carpet": [
           {
            "aaxis": {
             "endlinecolor": "#2a3f5f",
             "gridcolor": "white",
             "linecolor": "white",
             "minorgridcolor": "white",
             "startlinecolor": "#2a3f5f"
            },
            "baxis": {
             "endlinecolor": "#2a3f5f",
             "gridcolor": "white",
             "linecolor": "white",
             "minorgridcolor": "white",
             "startlinecolor": "#2a3f5f"
            },
            "type": "carpet"
           }
          ],
          "choropleth": [
           {
            "colorbar": {
             "outlinewidth": 0,
             "ticks": ""
            },
            "type": "choropleth"
           }
          ],
          "contour": [
           {
            "colorbar": {
             "outlinewidth": 0,
             "ticks": ""
            },
            "colorscale": [
             [
              0,
              "#0d0887"
             ],
             [
              0.1111111111111111,
              "#46039f"
             ],
             [
              0.2222222222222222,
              "#7201a8"
             ],
             [
              0.3333333333333333,
              "#9c179e"
             ],
             [
              0.4444444444444444,
              "#bd3786"
             ],
             [
              0.5555555555555556,
              "#d8576b"
             ],
             [
              0.6666666666666666,
              "#ed7953"
             ],
             [
              0.7777777777777778,
              "#fb9f3a"
             ],
             [
              0.8888888888888888,
              "#fdca26"
             ],
             [
              1,
              "#f0f921"
             ]
            ],
            "type": "contour"
           }
          ],
          "contourcarpet": [
           {
            "colorbar": {
             "outlinewidth": 0,
             "ticks": ""
            },
            "type": "contourcarpet"
           }
          ],
          "heatmap": [
           {
            "colorbar": {
             "outlinewidth": 0,
             "ticks": ""
            },
            "colorscale": [
             [
              0,
              "#0d0887"
             ],
             [
              0.1111111111111111,
              "#46039f"
             ],
             [
              0.2222222222222222,
              "#7201a8"
             ],
             [
              0.3333333333333333,
              "#9c179e"
             ],
             [
              0.4444444444444444,
              "#bd3786"
             ],
             [
              0.5555555555555556,
              "#d8576b"
             ],
             [
              0.6666666666666666,
              "#ed7953"
             ],
             [
              0.7777777777777778,
              "#fb9f3a"
             ],
             [
              0.8888888888888888,
              "#fdca26"
             ],
             [
              1,
              "#f0f921"
             ]
            ],
            "type": "heatmap"
           }
          ],
          "histogram": [
           {
            "marker": {
             "pattern": {
              "fillmode": "overlay",
              "size": 10,
              "solidity": 0.2
             }
            },
            "type": "histogram"
           }
          ],
          "histogram2d": [
           {
            "colorbar": {
             "outlinewidth": 0,
             "ticks": ""
            },
            "colorscale": [
             [
              0,
              "#0d0887"
             ],
             [
              0.1111111111111111,
              "#46039f"
             ],
             [
              0.2222222222222222,
              "#7201a8"
             ],
             [
              0.3333333333333333,
              "#9c179e"
             ],
             [
              0.4444444444444444,
              "#bd3786"
             ],
             [
              0.5555555555555556,
              "#d8576b"
             ],
             [
              0.6666666666666666,
              "#ed7953"
             ],
             [
              0.7777777777777778,
              "#fb9f3a"
             ],
             [
              0.8888888888888888,
              "#fdca26"
             ],
             [
              1,
              "#f0f921"
             ]
            ],
            "type": "histogram2d"
           }
          ],
          "histogram2dcontour": [
           {
            "colorbar": {
             "outlinewidth": 0,
             "ticks": ""
            },
            "colorscale": [
             [
              0,
              "#0d0887"
             ],
             [
              0.1111111111111111,
              "#46039f"
             ],
             [
              0.2222222222222222,
              "#7201a8"
             ],
             [
              0.3333333333333333,
              "#9c179e"
             ],
             [
              0.4444444444444444,
              "#bd3786"
             ],
             [
              0.5555555555555556,
              "#d8576b"
             ],
             [
              0.6666666666666666,
              "#ed7953"
             ],
             [
              0.7777777777777778,
              "#fb9f3a"
             ],
             [
              0.8888888888888888,
              "#fdca26"
             ],
             [
              1,
              "#f0f921"
             ]
            ],
            "type": "histogram2dcontour"
           }
          ],
          "mesh3d": [
           {
            "colorbar": {
             "outlinewidth": 0,
             "ticks": ""
            },
            "type": "mesh3d"
           }
          ],
          "parcoords": [
           {
            "line": {
             "colorbar": {
              "outlinewidth": 0,
              "ticks": ""
             }
            },
            "type": "parcoords"
           }
          ],
          "pie": [
           {
            "automargin": true,
            "type": "pie"
           }
          ],
          "scatter": [
           {
            "fillpattern": {
             "fillmode": "overlay",
             "size": 10,
             "solidity": 0.2
            },
            "type": "scatter"
           }
          ],
          "scatter3d": [
           {
            "line": {
             "colorbar": {
              "outlinewidth": 0,
              "ticks": ""
             }
            },
            "marker": {
             "colorbar": {
              "outlinewidth": 0,
              "ticks": ""
             }
            },
            "type": "scatter3d"
           }
          ],
          "scattercarpet": [
           {
            "marker": {
             "colorbar": {
              "outlinewidth": 0,
              "ticks": ""
             }
            },
            "type": "scattercarpet"
           }
          ],
          "scattergeo": [
           {
            "marker": {
             "colorbar": {
              "outlinewidth": 0,
              "ticks": ""
             }
            },
            "type": "scattergeo"
           }
          ],
          "scattergl": [
           {
            "marker": {
             "colorbar": {
              "outlinewidth": 0,
              "ticks": ""
             }
            },
            "type": "scattergl"
           }
          ],
          "scattermap": [
           {
            "marker": {
             "colorbar": {
              "outlinewidth": 0,
              "ticks": ""
             }
            },
            "type": "scattermap"
           }
          ],
          "scattermapbox": [
           {
            "marker": {
             "colorbar": {
              "outlinewidth": 0,
              "ticks": ""
             }
            },
            "type": "scattermapbox"
           }
          ],
          "scatterpolar": [
           {
            "marker": {
             "colorbar": {
              "outlinewidth": 0,
              "ticks": ""
             }
            },
            "type": "scatterpolar"
           }
          ],
          "scatterpolargl": [
           {
            "marker": {
             "colorbar": {
              "outlinewidth": 0,
              "ticks": ""
             }
            },
            "type": "scatterpolargl"
           }
          ],
          "scatterternary": [
           {
            "marker": {
             "colorbar": {
              "outlinewidth": 0,
              "ticks": ""
             }
            },
            "type": "scatterternary"
           }
          ],
          "surface": [
           {
            "colorbar": {
             "outlinewidth": 0,
             "ticks": ""
            },
            "colorscale": [
             [
              0,
              "#0d0887"
             ],
             [
              0.1111111111111111,
              "#46039f"
             ],
             [
              0.2222222222222222,
              "#7201a8"
             ],
             [
              0.3333333333333333,
              "#9c179e"
             ],
             [
              0.4444444444444444,
              "#bd3786"
             ],
             [
              0.5555555555555556,
              "#d8576b"
             ],
             [
              0.6666666666666666,
              "#ed7953"
             ],
             [
              0.7777777777777778,
              "#fb9f3a"
             ],
             [
              0.8888888888888888,
              "#fdca26"
             ],
             [
              1,
              "#f0f921"
             ]
            ],
            "type": "surface"
           }
          ],
          "table": [
           {
            "cells": {
             "fill": {
              "color": "#EBF0F8"
             },
             "line": {
              "color": "white"
             }
            },
            "header": {
             "fill": {
              "color": "#C8D4E3"
             },
             "line": {
              "color": "white"
             }
            },
            "type": "table"
           }
          ]
         },
         "layout": {
          "annotationdefaults": {
           "arrowcolor": "#2a3f5f",
           "arrowhead": 0,
           "arrowwidth": 1
          },
          "autotypenumbers": "strict",
          "coloraxis": {
           "colorbar": {
            "outlinewidth": 0,
            "ticks": ""
           }
          },
          "colorscale": {
           "diverging": [
            [
             0,
             "#8e0152"
            ],
            [
             0.1,
             "#c51b7d"
            ],
            [
             0.2,
             "#de77ae"
            ],
            [
             0.3,
             "#f1b6da"
            ],
            [
             0.4,
             "#fde0ef"
            ],
            [
             0.5,
             "#f7f7f7"
            ],
            [
             0.6,
             "#e6f5d0"
            ],
            [
             0.7,
             "#b8e186"
            ],
            [
             0.8,
             "#7fbc41"
            ],
            [
             0.9,
             "#4d9221"
            ],
            [
             1,
             "#276419"
            ]
           ],
           "sequential": [
            [
             0,
             "#0d0887"
            ],
            [
             0.1111111111111111,
             "#46039f"
            ],
            [
             0.2222222222222222,
             "#7201a8"
            ],
            [
             0.3333333333333333,
             "#9c179e"
            ],
            [
             0.4444444444444444,
             "#bd3786"
            ],
            [
             0.5555555555555556,
             "#d8576b"
            ],
            [
             0.6666666666666666,
             "#ed7953"
            ],
            [
             0.7777777777777778,
             "#fb9f3a"
            ],
            [
             0.8888888888888888,
             "#fdca26"
            ],
            [
             1,
             "#f0f921"
            ]
           ],
           "sequentialminus": [
            [
             0,
             "#0d0887"
            ],
            [
             0.1111111111111111,
             "#46039f"
            ],
            [
             0.2222222222222222,
             "#7201a8"
            ],
            [
             0.3333333333333333,
             "#9c179e"
            ],
            [
             0.4444444444444444,
             "#bd3786"
            ],
            [
             0.5555555555555556,
             "#d8576b"
            ],
            [
             0.6666666666666666,
             "#ed7953"
            ],
            [
             0.7777777777777778,
             "#fb9f3a"
            ],
            [
             0.8888888888888888,
             "#fdca26"
            ],
            [
             1,
             "#f0f921"
            ]
           ]
          },
          "colorway": [
           "#636efa",
           "#EF553B",
           "#00cc96",
           "#ab63fa",
           "#FFA15A",
           "#19d3f3",
           "#FF6692",
           "#B6E880",
           "#FF97FF",
           "#FECB52"
          ],
          "font": {
           "color": "#2a3f5f"
          },
          "geo": {
           "bgcolor": "white",
           "lakecolor": "white",
           "landcolor": "#E5ECF6",
           "showlakes": true,
           "showland": true,
           "subunitcolor": "white"
          },
          "hoverlabel": {
           "align": "left"
          },
          "hovermode": "closest",
          "mapbox": {
           "style": "light"
          },
          "paper_bgcolor": "white",
          "plot_bgcolor": "#E5ECF6",
          "polar": {
           "angularaxis": {
            "gridcolor": "white",
            "linecolor": "white",
            "ticks": ""
           },
           "bgcolor": "#E5ECF6",
           "radialaxis": {
            "gridcolor": "white",
            "linecolor": "white",
            "ticks": ""
           }
          },
          "scene": {
           "xaxis": {
            "backgroundcolor": "#E5ECF6",
            "gridcolor": "white",
            "gridwidth": 2,
            "linecolor": "white",
            "showbackground": true,
            "ticks": "",
            "zerolinecolor": "white"
           },
           "yaxis": {
            "backgroundcolor": "#E5ECF6",
            "gridcolor": "white",
            "gridwidth": 2,
            "linecolor": "white",
            "showbackground": true,
            "ticks": "",
            "zerolinecolor": "white"
           },
           "zaxis": {
            "backgroundcolor": "#E5ECF6",
            "gridcolor": "white",
            "gridwidth": 2,
            "linecolor": "white",
            "showbackground": true,
            "ticks": "",
            "zerolinecolor": "white"
           }
          },
          "shapedefaults": {
           "line": {
            "color": "#2a3f5f"
           }
          },
          "ternary": {
           "aaxis": {
            "gridcolor": "white",
            "linecolor": "white",
            "ticks": ""
           },
           "baxis": {
            "gridcolor": "white",
            "linecolor": "white",
            "ticks": ""
           },
           "bgcolor": "#E5ECF6",
           "caxis": {
            "gridcolor": "white",
            "linecolor": "white",
            "ticks": ""
           }
          },
          "title": {
           "x": 0.05
          },
          "xaxis": {
           "automargin": true,
           "gridcolor": "white",
           "linecolor": "white",
           "ticks": "",
           "title": {
            "standoff": 15
           },
           "zerolinecolor": "white",
           "zerolinewidth": 2
          },
          "yaxis": {
           "automargin": true,
           "gridcolor": "white",
           "linecolor": "white",
           "ticks": "",
           "title": {
            "standoff": 15
           },
           "zerolinecolor": "white",
           "zerolinewidth": 2
          }
         }
        },
        "title": {
         "text": "🎯 Marks vs Age (Interactive)"
        },
        "xaxis": {
         "anchor": "y",
         "domain": [
          0,
          1
         ],
         "title": {
          "text": "age"
         }
        },
        "yaxis": {
         "anchor": "x",
         "domain": [
          0,
          1
         ],
         "title": {
          "text": "final_result"
         }
        }
       }
      }
     },
     "metadata": {},
     "output_type": "display_data"
    }
   ],
   "source": [
    "fig = px.scatter(df, x=\"age\", y=\"final_result\", color=\"gender\", title=\"🎯 Marks vs Age (Interactive)\")\n",
    "fig.show()"
   ]
  },
  {
   "cell_type": "code",
   "execution_count": 51,
   "id": "d994b9b7-cbc2-4678-b388-5030ae8e889b",
   "metadata": {},
   "outputs": [
    {
     "name": "stderr",
     "output_type": "stream",
     "text": [
      "C:\\Users\\marot\\AppData\\Local\\Programs\\Python\\Python313\\Lib\\site-packages\\IPython\\core\\pylabtools.py:170: UserWarning:\n",
      "\n",
      "Glyph 128202 (\\N{BAR CHART}) missing from font(s) Arial.\n",
      "\n"
     ]
    },
    {
     "data": {
      "image/png": "[encoded data removed]",
      "text/plain": [
       "<Figure size 640x480 with 1 Axes>"
      ]
     },
     "metadata": {},
     "output_type": "display_data"
    }
   ],
   "source": [
    "df.groupby('gender')['math_score'].mean().plot(kind='bar', color=['green', 'red'])\n",
    "plt.title(\"📊 Average Marks by Gender\")\n",
    "plt.ylabel(\"Marks\")\n",
    "plt.show()\n"
   ]
  },
  {
   "cell_type": "code",
   "execution_count": 53,
   "id": "82db31ad-20b8-4915-84c5-6d49fcafe920",
   "metadata": {},
   "outputs": [
    {
     "data": {
      "text/html": [
       "<div>\n",
       "<style scoped>\n",
       "    .dataframe tbody tr th:only-of-type {\n",
       "        vertical-align: middle;\n",
       "    }\n",
       "\n",
       "    .dataframe tbody tr th {\n",
       "        vertical-align: top;\n",
       "    }\n",
       "\n",
       "    .dataframe thead th {\n",
       "        text-align: right;\n",
       "    }\n",
       "</style>\n",
       "<table border=\"1\" class=\"dataframe\">\n",
       "  <thead>\n",
       "    <tr style=\"text-align: right;\">\n",
       "      <th></th>\n",
       "      <th>name</th>\n",
       "      <th>math_score</th>\n",
       "      <th>gender</th>\n",
       "    </tr>\n",
       "  </thead>\n",
       "  <tbody>\n",
       "    <tr>\n",
       "      <th>1</th>\n",
       "      <td>Student_2</td>\n",
       "      <td>99</td>\n",
       "      <td>Male</td>\n",
       "    </tr>\n",
       "    <tr>\n",
       "      <th>27</th>\n",
       "      <td>Student_28</td>\n",
       "      <td>99</td>\n",
       "      <td>Other</td>\n",
       "    </tr>\n",
       "    <tr>\n",
       "      <th>32</th>\n",
       "      <td>Student_33</td>\n",
       "      <td>93</td>\n",
       "      <td>Female</td>\n",
       "    </tr>\n",
       "    <tr>\n",
       "      <th>34</th>\n",
       "      <td>Student_35</td>\n",
       "      <td>95</td>\n",
       "      <td>Other</td>\n",
       "    </tr>\n",
       "    <tr>\n",
       "      <th>35</th>\n",
       "      <td>Student_36</td>\n",
       "      <td>98</td>\n",
       "      <td>Female</td>\n",
       "    </tr>\n",
       "    <tr>\n",
       "      <th>...</th>\n",
       "      <td>...</td>\n",
       "      <td>...</td>\n",
       "      <td>...</td>\n",
       "    </tr>\n",
       "    <tr>\n",
       "      <th>963</th>\n",
       "      <td>Student_964</td>\n",
       "      <td>93</td>\n",
       "      <td>Male</td>\n",
       "    </tr>\n",
       "    <tr>\n",
       "      <th>965</th>\n",
       "      <td>Student_966</td>\n",
       "      <td>93</td>\n",
       "      <td>Female</td>\n",
       "    </tr>\n",
       "    <tr>\n",
       "      <th>974</th>\n",
       "      <td>Student_975</td>\n",
       "      <td>96</td>\n",
       "      <td>Male</td>\n",
       "    </tr>\n",
       "    <tr>\n",
       "      <th>998</th>\n",
       "      <td>Student_999</td>\n",
       "      <td>94</td>\n",
       "      <td>Other</td>\n",
       "    </tr>\n",
       "    <tr>\n",
       "      <th>999</th>\n",
       "      <td>Student_1000</td>\n",
       "      <td>96</td>\n",
       "      <td>Male</td>\n",
       "    </tr>\n",
       "  </tbody>\n",
       "</table>\n",
       "<p>188 rows × 3 columns</p>\n",
       "</div>"
      ],
      "text/plain": [
       "             name  math_score  gender\n",
       "1       Student_2          99    Male\n",
       "27     Student_28          99   Other\n",
       "32     Student_33          93  Female\n",
       "34     Student_35          95   Other\n",
       "35     Student_36          98  Female\n",
       "..            ...         ...     ...\n",
       "963   Student_964          93    Male\n",
       "965   Student_966          93  Female\n",
       "974   Student_975          96    Male\n",
       "998   Student_999          94   Other\n",
       "999  Student_1000          96    Male\n",
       "\n",
       "[188 rows x 3 columns]"
      ]
     },
     "execution_count": 53,
     "metadata": {},
     "output_type": "execute_result"
    }
   ],
   "source": [
    "top_students = df[df['math_score'] > 90]\n",
    "top_students[['name', 'math_score', 'gender']]\n"
   ]
  },
  {
   "cell_type": "code",
   "execution_count": null,
   "id": "0aea9e1c-48e2-43ac-b026-9a0456ea6913",
   "metadata": {},
   "outputs": [],
   "source": []
  }
 ],
 "metadata": {
  "kernelspec": {
   "display_name": "Python 3 (ipykernel)",
   "language": "python",
   "name": "python3"
  },
  "language_info": {
   "codemirror_mode": {
    "name": "ipython",
    "version": 3
   },
   "file_extension": ".py",
   "mimetype": "text/x-python",
   "name": "python",
   "nbconvert_exporter": "python",
   "pygments_lexer": "ipython3",
   "version": "3.13.5"
  }
 },
 "nbformat": 4,
 "nbformat_minor": 5
}
